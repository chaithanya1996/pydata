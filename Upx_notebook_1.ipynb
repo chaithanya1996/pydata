{
  "cells": [
    {
      "cell_type": "code",
      "metadata": {
        "_uuid": "3e00259df776f1152d97ac728bc13255c7d50b48",
        "_execution_state": "idle"
      },
      "source": "import numpy as np # linear algebra\nimport pandas as pd # data processing, CSV file I/O (e.g. pd.read_csv)\n",
      "outputs": [],
      "execution_count": 1
    },
    {
      "metadata": {
        "collapsed": false,
        "_uuid": "265c56fba343b0fa534cdd9831ea9b5b54857b0d",
        "_execution_state": "idle"
      },
      "source": "rand_np = np.random.randn(10)",
      "execution_count": 10,
      "cell_type": "code",
      "outputs": []
    },
    {
      "metadata": {
        "collapsed": false,
        "_uuid": "8b889abdafa79a52f1483324f97204974a448ce4",
        "_execution_state": "idle"
      },
      "source": "pd.Series([rand_np])",
      "execution_count": 11,
      "cell_type": "code",
      "outputs": [
        {
          "output_type": "execute_result",
          "data": {
            "text/plain": "0    [-0.666119373882, -0.452489064688, -0.97416665...\ndtype: object"
          },
          "metadata": {},
          "execution_count": 11
        }
      ]
    },
    {
      "metadata": {
        "collapsed": false,
        "_uuid": "0ce8ee0b09373bfad4119d692ea05c9bebcc9733",
        "_execution_state": "idle"
      },
      "source": "Here You have casted the numpy array to list by specifying brackets around the variable ",
      "execution_count": null,
      "cell_type": "markdown",
      "outputs": []
    },
    {
      "metadata": {
        "collapsed": false,
        "_uuid": "a58a6b4ea6a174434d4a5b6dbf754181981e0782",
        "_execution_state": "idle"
      },
      "source": "type([rand_np]) # here by specifying brackets we casted it to list",
      "execution_count": 13,
      "cell_type": "code",
      "outputs": [
        {
          "output_type": "execute_result",
          "data": {
            "text/plain": "list"
          },
          "metadata": {},
          "execution_count": 13
        }
      ]
    },
    {
      "metadata": {
        "collapsed": false,
        "_uuid": "559d1aaa7be297a6a53cbef3444727b74019f00c",
        "_execution_state": "idle"
      },
      "source": "type(rand_np)",
      "execution_count": 14,
      "cell_type": "code",
      "outputs": [
        {
          "output_type": "execute_result",
          "data": {
            "text/plain": "numpy.ndarray"
          },
          "metadata": {},
          "execution_count": 14
        }
      ]
    },
    {
      "metadata": {
        "collapsed": false,
        "_uuid": "4397625f07f7c2b4700f108cdf8e38722acb0693",
        "_execution_state": "idle"
      },
      "source": "pd.Series(rand_np) # Removing the braces we get the series",
      "execution_count": 15,
      "cell_type": "code",
      "outputs": [
        {
          "output_type": "execute_result",
          "data": {
            "text/plain": "0   -0.666119\n1   -0.452489\n2   -0.974167\n3    0.518944\n4    0.129236\n5   -1.162614\n6   -0.895076\n7    1.031993\n8   -0.270602\n9    1.212293\ndtype: float64"
          },
          "metadata": {},
          "execution_count": 15
        }
      ]
    }
  ],
  "metadata": {
    "language_info": {
      "name": "python",
      "version": "3.6.0",
      "mimetype": "text/x-python",
      "codemirror_mode": {
        "name": "ipython",
        "version": 3
      },
      "pygments_lexer": "ipython3",
      "nbconvert_exporter": "python",
      "file_extension": ".py"
    },
    "kernelspec": {
      "display_name": "Python 3",
      "language": "python",
      "name": "python3"
    }
  },
  "nbformat": 4,
  "nbformat_minor": 0
}